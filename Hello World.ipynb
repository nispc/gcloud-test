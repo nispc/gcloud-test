{
 "cells": [
  {
   "cell_type": "markdown",
   "metadata": {},
   "source": [
    "# Untitled Notebook\n",
    "\n",
    "This is an initial placeholder notebook. Feel free to edit and rename as well as create your own notebooks, to use Google Cloud Datalab."
   ]
  },
  {
   "cell_type": "code",
   "execution_count": null,
   "metadata": {
    "collapsed": false
   },
   "outputs": [],
   "source": [
    "# Code cell ready to be run...\n",
    "print 'Hello!'"
   ]
  },
  {
   "cell_type": "code",
   "execution_count": 5,
   "metadata": {
    "collapsed": false
   },
   "outputs": [
    {
     "name": "stdout",
     "output_type": "stream",
     "text": [
      "Downloading/unpacking shapely\n",
      "  Downloading Shapely-1.5.16.tar.gz (180kB): 180kB downloaded\n",
      "  Running setup.py (path:/tmp/pip-build-wT30Yc/shapely/setup.py) egg_info for package shapely\n",
      "    Failed `CDLL(libgeos_c.so.1)`\n",
      "    Failed `CDLL(libgeos_c.so)`\n",
      "    Traceback (most recent call last):\n",
      "      File \"<string>\", line 17, in <module>\n",
      "      File \"/tmp/pip-build-wT30Yc/shapely/setup.py\", line 38, in <module>\n",
      "        from shapely._buildcfg import geos_version_string, geos_version, \\\n",
      "      File \"/tmp/pip-build-wT30Yc/shapely/shapely/_buildcfg.py\", line 167, in <module>\n",
      "        fallbacks=['libgeos_c.so.1', 'libgeos_c.so'])\n",
      "      File \"/tmp/pip-build-wT30Yc/shapely/shapely/_buildcfg.py\", line 161, in load_dll\n",
      "        libname, fallbacks or []))\n",
      "    OSError: Could not find library geos_c or load any of its variants ['libgeos_c.so.1', 'libgeos_c.so']\n",
      "    Complete output from command python setup.py egg_info:\n",
      "    Failed `CDLL(libgeos_c.so.1)`\n",
      "\n",
      "Failed `CDLL(libgeos_c.so)`\n",
      "\n",
      "Traceback (most recent call last):\n",
      "\n",
      "  File \"<string>\", line 17, in <module>\n",
      "\n",
      "  File \"/tmp/pip-build-wT30Yc/shapely/setup.py\", line 38, in <module>\n",
      "\n",
      "    from shapely._buildcfg import geos_version_string, geos_version, \\\n",
      "\n",
      "  File \"/tmp/pip-build-wT30Yc/shapely/shapely/_buildcfg.py\", line 167, in <module>\n",
      "\n",
      "    fallbacks=['libgeos_c.so.1', 'libgeos_c.so'])\n",
      "\n",
      "  File \"/tmp/pip-build-wT30Yc/shapely/shapely/_buildcfg.py\", line 161, in load_dll\n",
      "\n",
      "    libname, fallbacks or []))\n",
      "\n",
      "OSError: Could not find library geos_c or load any of its variants ['libgeos_c.so.1', 'libgeos_c.so']\n",
      "\n",
      "----------------------------------------\n",
      "Cleaning up...\n",
      "\u001b[31mCommand python setup.py egg_info failed with error code 1 in /tmp/pip-build-wT30Yc/shapely\n",
      "\u001b[0m\u001b[31mStoring debug log for failure in /root/.pip/pip.log\n",
      "\u001b[0m"
     ]
    }
   ],
   "source": [
    "!pip install shapely"
   ]
  },
  {
   "cell_type": "code",
   "execution_count": null,
   "metadata": {
    "collapsed": false
   },
   "outputs": [],
   "source": [
    "!apt-get install libgeos-c1"
   ]
  },
  {
   "cell_type": "code",
   "execution_count": null,
   "metadata": {
    "collapsed": true
   },
   "outputs": [],
   "source": []
  }
 ],
 "metadata": {
  "kernelspec": {
   "display_name": "Python 2",
   "language": "python",
   "name": "python2"
  },
  "language_info": {
   "codemirror_mode": {
    "name": "ipython",
    "version": 2
   },
   "file_extension": ".py",
   "mimetype": "text/x-python",
   "name": "python",
   "nbconvert_exporter": "python",
   "pygments_lexer": "ipython2",
   "version": "2.7.9"
  }
 },
 "nbformat": 4,
 "nbformat_minor": 0
}
