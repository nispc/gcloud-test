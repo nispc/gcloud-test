{
 "cells": [
  {
   "cell_type": "code",
   "execution_count": 6,
   "metadata": {
    "collapsed": true
   },
   "outputs": [],
   "source": [
    "import geopandas as gpd"
   ]
  },
  {
   "cell_type": "code",
   "execution_count": null,
   "metadata": {
    "collapsed": true
   },
   "outputs": [],
   "source": [
    "gpd"
   ]
  },
  {
   "cell_type": "code",
   "execution_count": 8,
   "metadata": {
    "collapsed": true
   },
   "outputs": [],
   "source": [
    "import gcp.storage as storage"
   ]
  },
  {
   "cell_type": "code",
   "execution_count": 9,
   "metadata": {
    "collapsed": true
   },
   "outputs": [],
   "source": [
    "import gcp\n",
    "\n",
    "project = gcp.Context.default().project_id"
   ]
  },
  {
   "cell_type": "code",
   "execution_count": 10,
   "metadata": {
    "collapsed": false
   },
   "outputs": [
    {
     "data": {
      "text/plain": [
       "'geoapp-1332'"
      ]
     },
     "execution_count": 10,
     "metadata": {},
     "output_type": "execute_result"
    }
   ],
   "source": [
    "project"
   ]
  },
  {
   "cell_type": "code",
   "execution_count": 21,
   "metadata": {
    "collapsed": true
   },
   "outputs": [],
   "source": [
    "bucket = storage.Bucket('geoapp-1332-datalab')"
   ]
  },
  {
   "cell_type": "code",
   "execution_count": 28,
   "metadata": {
    "collapsed": false
   },
   "outputs": [],
   "source": [
    "for i in bucket.items('/users/'):\n",
    "  print i.key"
   ]
  },
  {
   "cell_type": "code",
   "execution_count": 35,
   "metadata": {
    "collapsed": false
   },
   "outputs": [
    {
     "name": "stdout",
     "output_type": "stream",
     "text": [
      "logs/main-20160604-15-24-00.txt\n",
      "logs/main-20160604-15-38-55.txt\n",
      "logs/main-20160604-15-43-15.txt\n",
      "logs/main-20160604-15-52-02.txt\n",
      "logs/main-20160604-16-00-15.txt\n",
      "users/nispc@nispc.tw\n",
      "users/鄉鎮市界/.DS_Store\n",
      "users/鄉鎮市界/Town_MOI_1041215.dbf\n",
      "users/鄉鎮市界/Town_MOI_1041215.prj\n",
      "users/鄉鎮市界/Town_MOI_1041215.shp\n",
      "users/鄉鎮市界/Town_MOI_1041215.shx\n"
     ]
    }
   ],
   "source": [
    "for item in shared_bucket.items():\n",
    "  if item.key.find('/users') < 0:\n",
    "    print item.key"
   ]
  },
  {
   "cell_type": "code",
   "execution_count": 37,
   "metadata": {
    "collapsed": false
   },
   "outputs": [
    {
     "name": "stdout",
     "output_type": "stream",
     "text": [
      "users/鄉鎮市界/.DS_Store\n",
      "users/鄉鎮市界/Town_MOI_1041215.dbf\n",
      "users/鄉鎮市界/Town_MOI_1041215.prj\n",
      "users/鄉鎮市界/Town_MOI_1041215.shp\n",
      "users/鄉鎮市界/Town_MOI_1041215.shx\n"
     ]
    }
   ],
   "source": [
    "for item in shared_bucket.items(prefix = 'users/鄉鎮市界/', delimiter = '/'):\n",
    "  print item.key"
   ]
  },
  {
   "cell_type": "code",
   "execution_count": 63,
   "metadata": {
    "collapsed": false
   },
   "outputs": [
    {
     "data": {
      "text/plain": [
       "Item gs://geoapp-1332-datalab/users/鄉鎮市界/Town_MOI_1041215.dbf"
      ]
     },
     "execution_count": 63,
     "metadata": {},
     "output_type": "execute_result"
    }
   ],
   "source": [
    "shared_bucket.item('users/鄉鎮市界/Town_MOI_1041215.dbf')"
   ]
  },
  {
   "cell_type": "code",
   "execution_count": 66,
   "metadata": {
    "collapsed": false
   },
   "outputs": [],
   "source": [
    "%storage read -o u\"gs://geoapp-1332-datalab/鄉鎮市界/Town_MOI_1041215.dbf\" --variable nispc"
   ]
  },
  {
   "cell_type": "code",
   "execution_count": 67,
   "metadata": {
    "collapsed": false
   },
   "outputs": [
    {
     "ename": "NameError",
     "evalue": "name 'nispc' is not defined",
     "output_type": "error",
     "traceback": [
      "\u001b[1;31m\u001b[0m",
      "\u001b[1;31mNameError\u001b[0mTraceback (most recent call last)",
      "\u001b[1;32m<ipython-input-67-e94e6af9fed0>\u001b[0m in \u001b[0;36m<module>\u001b[1;34m()\u001b[0m\n\u001b[1;32m----> 1\u001b[1;33m \u001b[0mnispc\u001b[0m\u001b[1;33m\u001b[0m\u001b[0m\n\u001b[0m",
      "\u001b[1;31mNameError\u001b[0m: name 'nispc' is not defined"
     ]
    }
   ],
   "source": [
    "nispc"
   ]
  },
  {
   "cell_type": "code",
   "execution_count": 69,
   "metadata": {
    "collapsed": false
   },
   "outputs": [
    {
     "data": {
      "text/plain": [
       "True"
      ]
     },
     "execution_count": 69,
     "metadata": {},
     "output_type": "execute_result"
    }
   ],
   "source": [
    "sample_bucket = storage.Bucket(\"geoapp-1332-datalab\")\n",
    "sample_bucket.create()\n",
    "sample_bucket.exists()"
   ]
  },
  {
   "cell_type": "code",
   "execution_count": 73,
   "metadata": {
    "collapsed": false
   },
   "outputs": [
    {
     "ename": "UnicodeEncodeError",
     "evalue": "'ascii' codec can't encode characters in position 36-39: ordinal not in range(128)",
     "output_type": "error",
     "traceback": [
      "\u001b[1;31m\u001b[0m",
      "\u001b[1;31mUnicodeEncodeError\u001b[0mTraceback (most recent call last)",
      "\u001b[1;32m<ipython-input-73-976e90e7ceec>\u001b[0m in \u001b[0;36m<module>\u001b[1;34m()\u001b[0m\n\u001b[1;32m----> 1\u001b[1;33m \u001b[1;32mprint\u001b[0m \u001b[0mlist\u001b[0m\u001b[1;33m(\u001b[0m\u001b[0msample_bucket\u001b[0m\u001b[1;33m.\u001b[0m\u001b[0mitems\u001b[0m\u001b[1;33m(\u001b[0m\u001b[1;33m)\u001b[0m\u001b[1;33m)\u001b[0m\u001b[1;33m\u001b[0m\u001b[0m\n\u001b[0m",
      "\u001b[1;31mUnicodeEncodeError\u001b[0m: 'ascii' codec can't encode characters in position 36-39: ordinal not in range(128)"
     ]
    }
   ],
   "source": [
    "print list(sample_bucket.items())"
   ]
  },
  {
   "cell_type": "code",
   "execution_count": 80,
   "metadata": {
    "collapsed": true
   },
   "outputs": [],
   "source": [
    "sample_item = sample_bucket.item('users/鄉鎮市界/Town_MOI_1041215.dbf')\n"
   ]
  },
  {
   "cell_type": "code",
   "execution_count": 88,
   "metadata": {
    "collapsed": false
   },
   "outputs": [],
   "source": [
    "sample_text = sample_item.read_from()\n",
    "print sample_text"
   ]
  },
  {
   "cell_type": "code",
   "execution_count": 89,
   "metadata": {
    "collapsed": false
   },
   "outputs": [
    {
     "name": "stdout",
     "output_type": "stream",
     "text": [
      "storage: error: invalid choice: 'v' (choose from 'copy', 'create', 'delete', 'list', 'read', 'view', 'write')\n",
      "\n"
     ]
    },
    {
     "name": "stderr",
     "output_type": "stream",
     "text": [
      "usage: storage [-h] {copy,create,delete,list,read,view,write} ...\n",
      "\n",
      "Execute various storage-related operations. Use \"%storage <command> -h\" for\n",
      "help on a specific command.\n",
      "\n",
      "positional arguments:\n",
      "  {copy,create,delete,list,read,view,write}\n",
      "                        commands\n",
      "    copy                Copy one or more GCS objects to a different location.\n",
      "    create              Create one or more GCS buckets.\n",
      "    delete              Delete one or more GCS buckets or objects.\n",
      "    list                List buckets in a project, or contents of a bucket.\n",
      "    read                Read the contents of a storage object into a Python\n",
      "                        variable.\n",
      "    view                View the contents of a storage object.\n",
      "    write               Write the value of a Python variable to a storage\n",
      "                        object.\n",
      "\n",
      "optional arguments:\n",
      "  -h, --help            show this help message and exit\n"
     ]
    }
   ],
   "source": [
    "%storage v"
   ]
  },
  {
   "cell_type": "code",
   "execution_count": null,
   "metadata": {
    "collapsed": true
   },
   "outputs": [],
   "source": []
  }
 ],
 "metadata": {
  "kernelspec": {
   "display_name": "Python 2",
   "language": "python",
   "name": "python2"
  },
  "language_info": {
   "codemirror_mode": {
    "name": "ipython",
    "version": 2
   },
   "file_extension": ".py",
   "mimetype": "text/x-python",
   "name": "python",
   "nbconvert_exporter": "python",
   "pygments_lexer": "ipython2",
   "version": "2.7.9"
  }
 },
 "nbformat": 4,
 "nbformat_minor": 0
}
