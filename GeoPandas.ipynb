{
 "cells": [
  {
   "cell_type": "code",
   "execution_count": 6,
   "metadata": {
    "collapsed": true
   },
   "outputs": [],
   "source": [
    "import geopandas as gpd"
   ]
  },
  {
   "cell_type": "code",
   "execution_count": null,
   "metadata": {
    "collapsed": true
   },
   "outputs": [],
   "source": [
    "gpd"
   ]
  },
  {
   "cell_type": "code",
   "execution_count": 8,
   "metadata": {
    "collapsed": true
   },
   "outputs": [],
   "source": [
    "import gcp.storage as storage"
   ]
  },
  {
   "cell_type": "code",
   "execution_count": 9,
   "metadata": {
    "collapsed": true
   },
   "outputs": [],
   "source": [
    "import gcp\n",
    "\n",
    "project = gcp.Context.default().project_id"
   ]
  },
  {
   "cell_type": "code",
   "execution_count": 10,
   "metadata": {
    "collapsed": false
   },
   "outputs": [
    {
     "data": {
      "text/plain": [
       "'geoapp-1332'"
      ]
     },
     "execution_count": 10,
     "metadata": {},
     "output_type": "execute_result"
    }
   ],
   "source": [
    "project"
   ]
  },
  {
   "cell_type": "code",
   "execution_count": 21,
   "metadata": {
    "collapsed": true
   },
   "outputs": [],
   "source": [
    "bucket = storage.Bucket('geoapp-1332-datalab')"
   ]
  },
  {
   "cell_type": "code",
   "execution_count": 28,
   "metadata": {
    "collapsed": false
   },
   "outputs": [],
   "source": [
    "for i in bucket.items('/users/'):\n",
    "  print i.key"
   ]
  },
  {
   "cell_type": "code",
   "execution_count": 35,
   "metadata": {
    "collapsed": false
   },
   "outputs": [
    {
     "name": "stdout",
     "output_type": "stream",
     "text": [
      "logs/main-20160604-15-24-00.txt\n",
      "logs/main-20160604-15-38-55.txt\n",
      "logs/main-20160604-15-43-15.txt\n",
      "logs/main-20160604-15-52-02.txt\n",
      "logs/main-20160604-16-00-15.txt\n",
      "users/nispc@nispc.tw\n",
      "users/鄉鎮市界/.DS_Store\n",
      "users/鄉鎮市界/Town_MOI_1041215.dbf\n",
      "users/鄉鎮市界/Town_MOI_1041215.prj\n",
      "users/鄉鎮市界/Town_MOI_1041215.shp\n",
      "users/鄉鎮市界/Town_MOI_1041215.shx\n"
     ]
    }
   ],
   "source": [
    "for item in shared_bucket.items():\n",
    "  if item.key.find('/users') < 0:\n",
    "    print item.key"
   ]
  },
  {
   "cell_type": "code",
   "execution_count": 37,
   "metadata": {
    "collapsed": false
   },
   "outputs": [
    {
     "name": "stdout",
     "output_type": "stream",
     "text": [
      "users/鄉鎮市界/.DS_Store\n",
      "users/鄉鎮市界/Town_MOI_1041215.dbf\n",
      "users/鄉鎮市界/Town_MOI_1041215.prj\n",
      "users/鄉鎮市界/Town_MOI_1041215.shp\n",
      "users/鄉鎮市界/Town_MOI_1041215.shx\n"
     ]
    }
   ],
   "source": [
    "for item in shared_bucket.items(prefix = 'users/鄉鎮市界/', delimiter = '/'):\n",
    "  print item.key"
   ]
  },
  {
   "cell_type": "code",
   "execution_count": 39,
   "metadata": {
    "collapsed": false
   },
   "outputs": [
    {
     "data": {
      "text/plain": [
       "Item gs://geoapp-1332-datalab/Town_MOI_1041215.shp"
      ]
     },
     "execution_count": 39,
     "metadata": {},
     "output_type": "execute_result"
    }
   ],
   "source": [
    "shared_bucket.item('Town_MOI_1041215.shp')"
   ]
  },
  {
   "cell_type": "code",
   "execution_count": 56,
   "metadata": {
    "collapsed": false
   },
   "outputs": [],
   "source": [
    "%storage read -o gs://geoapp-1332-datalab/users/鄉鎮市界/Town_MOI_1041215.shp -v abc"
   ]
  },
  {
   "cell_type": "code",
   "execution_count": 55,
   "metadata": {
    "collapsed": false
   },
   "outputs": [
    {
     "name": "stderr",
     "output_type": "stream",
     "text": [
      "ERROR: Line magic function `%abc` not found.\n"
     ]
    }
   ],
   "source": []
  },
  {
   "cell_type": "code",
   "execution_count": null,
   "metadata": {
    "collapsed": true
   },
   "outputs": [],
   "source": []
  }
 ],
 "metadata": {
  "kernelspec": {
   "display_name": "Python 2",
   "language": "python",
   "name": "python2"
  },
  "language_info": {
   "codemirror_mode": {
    "name": "ipython",
    "version": 2
   },
   "file_extension": ".py",
   "mimetype": "text/x-python",
   "name": "python",
   "nbconvert_exporter": "python",
   "pygments_lexer": "ipython2",
   "version": "2.7.9"
  }
 },
 "nbformat": 4,
 "nbformat_minor": 0
}
