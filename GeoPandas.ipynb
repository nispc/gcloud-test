{
 "cells": [
  {
   "cell_type": "code",
   "execution_count": 111,
   "metadata": {
    "collapsed": true
   },
   "outputs": [],
   "source": [
    "import geopandas as gpd"
   ]
  },
  {
   "cell_type": "code",
   "execution_count": 112,
   "metadata": {
    "collapsed": true
   },
   "outputs": [],
   "source": [
    "import gcp.storage as storage"
   ]
  },
  {
   "cell_type": "code",
   "execution_count": 113,
   "metadata": {
    "collapsed": true
   },
   "outputs": [],
   "source": [
    "bucket = storage.Bucket('geoapp-1332-datalab')"
   ]
  },
  {
   "cell_type": "code",
   "execution_count": 130,
   "metadata": {
    "collapsed": false
   },
   "outputs": [
    {
     "data": {
      "text/html": [
       "<table><tr><th>Bucket</th><th>Created</th></tr><tr><td>gs://geoapp-1332-datalab</td><td>2016-06-04 15:24:44.344000+00:00</td></tr><tr><td>gs://vm-config.geoapp-1332.appspot.com</td><td>2016-06-04 15:55:47.960000+00:00</td></tr><tr><td>gs://vm-containers.geoapp-1332.appspot.com</td><td>2016-06-04 15:55:51.572000+00:00</td></tr></table>"
      ],
      "text/plain": [
       "<IPython.core.display.HTML object>"
      ]
     },
     "execution_count": 130,
     "metadata": {},
     "output_type": "execute_result"
    }
   ],
   "source": [
    "%%storage list -p geoapp-1332"
   ]
  },
  {
   "cell_type": "code",
   "execution_count": 138,
   "metadata": {
    "collapsed": false
   },
   "outputs": [
    {
     "data": {
      "text/html": [
       "<table><tr><th>Name</th><th>Type</th><th>Size</th><th>Updated</th></tr><tr><td>20151114 Accident/.Rhistory</td><td>binary/octet-stream</td><td>18506</td><td>2016-06-06 13:38:31.657000+00:00</td></tr><tr><td>20151114 Accident/100y.csv</td><td>text/csv</td><td>3550771</td><td>2016-06-06 13:38:44.042000+00:00</td></tr><tr><td>20151114 Accident/100y_twd97.csv</td><td>text/csv</td><td>1501709</td><td>2016-06-06 13:38:13.961000+00:00</td></tr><tr><td>20151114 Accident/101y.csv</td><td>text/csv</td><td>3376312</td><td>2016-06-06 13:38:14.604000+00:00</td></tr><tr><td>20151114 Accident/101y_twd97.csv</td><td>text/csv</td><td>1487627</td><td>2016-06-06 13:38:28.321000+00:00</td></tr><tr><td>20151114 Accident/102y.csv</td><td>text/csv</td><td>3421083</td><td>2016-06-06 13:38:24.103000+00:00</td></tr><tr><td>20151114 Accident/102y_twd97.csv</td><td>text/csv</td><td>1798766</td><td>2016-06-06 13:38:43.106000+00:00</td></tr><tr><td>20151114 Accident/97y.csv</td><td>text/csv</td><td>2545789</td><td>2016-06-06 13:38:14.306000+00:00</td></tr><tr><td>20151114 Accident/97y_twd97.csv</td><td>text/csv</td><td>1227583</td><td>2016-06-06 13:38:26.132000+00:00</td></tr><tr><td>20151114 Accident/98y.csv</td><td>text/csv</td><td>2850100</td><td>2016-06-06 13:38:16.781000+00:00</td></tr><tr><td>20151114 Accident/98y_twd97.csv</td><td>text/csv</td><td>1243881</td><td>2016-06-06 13:38:28.333000+00:00</td></tr><tr><td>20151114 Accident/99y.csv</td><td>text/csv</td><td>3298894</td><td>2016-06-06 13:38:18.123000+00:00</td></tr><tr><td>20151114 Accident/99y_twd97.csv</td><td>text/csv</td><td>1639077</td><td>2016-06-06 13:38:20.184000+00:00</td></tr><tr><td>20151114 Accident/ACC.R</td><td>binary/octet-stream</td><td>3372</td><td>2016-06-06 13:38:44.440000+00:00</td></tr><tr><td>20151114 Accident/ACC.RData</td><td>binary/octet-stream</td><td>18785245</td><td>2016-06-06 13:38:40.704000+00:00</td></tr><tr><td>20151114 Accident/ACC_ana.R</td><td>binary/octet-stream</td><td>1589</td><td>2016-06-06 13:38:39.453000+00:00</td></tr><tr><td>20151114 Accident/ACC_download.R</td><td>binary/octet-stream</td><td>1325</td><td>2016-06-06 13:38:21.773000+00:00</td></tr><tr><td>20151114 Accident/Alcohol.csv</td><td>text/csv</td><td>2424496</td><td>2016-06-06 13:38:18.912000+00:00</td></tr><tr><td>20151114 Accident/TPE.RDA</td><td>binary/octet-stream</td><td>5092031</td><td>2016-06-06 13:38:26.128000+00:00</td></tr><tr><td>20151114 Accident/TPE.csv</td><td>text/csv</td><td>45159061</td><td>2016-06-06 13:38:44.065000+00:00</td></tr><tr><td>20151114 Accident/TWD97.csv</td><td>text/csv</td><td>14377600</td><td>2016-06-06 13:38:36.552000+00:00</td></tr><tr><td>20151114 Accident/TWD97toWGS84.R</td><td>binary/octet-stream</td><td>2289</td><td>2016-06-06 13:38:21.440000+00:00</td></tr><tr><td>20151114 Accident/ggmapTemp.png</td><td>image/png</td><td>17815</td><td>2016-06-06 13:38:15.369000+00:00</td></tr><tr><td>20151114 Accident/gmaps.R</td><td>binary/octet-stream</td><td>1272</td><td>2016-06-06 13:38:41.402000+00:00</td></tr><tr><td>20151114 Accident/test.html</td><td>text/html</td><td>18061</td><td>2016-06-06 13:38:30.210000+00:00</td></tr><tr><td>20151114 Accident/toWGS.R</td><td>binary/octet-stream</td><td>1953</td><td>2016-06-06 13:38:45.469000+00:00</td></tr><tr><td>20151114 Accident/資料表單對照.docx</td><td>application/vnd.openxmlformats-officedocument.wordprocessingml.document</td><td>42284</td><td>2016-06-06 13:38:20.474000+00:00</td></tr><tr><td>20151114 Accident/道路交通事故調查報告表(97年以後版本).pdf</td><td>application/pdf</td><td>370013</td><td>2016-06-06 13:38:30.390000+00:00</td></tr><tr><td>logs/main-20160604-15-24-00.txt</td><td>text/plain</td><td>1499</td><td>2016-06-04 15:24:50.655000+00:00</td></tr><tr><td>logs/main-20160604-15-38-55.txt</td><td>text/plain</td><td>1633</td><td>2016-06-04 15:39:44.298000+00:00</td></tr><tr><td>logs/main-20160604-15-43-15.txt</td><td>text/plain</td><td>1633</td><td>2016-06-04 15:44:21.281000+00:00</td></tr><tr><td>logs/main-20160604-15-52-02.txt</td><td>text/plain</td><td>51805</td><td>2016-06-04 15:55:07.614000+00:00</td></tr><tr><td>logs/main-20160604-16-00-15.txt</td><td>text/plain</td><td>680</td><td>2016-06-04 16:00:58.197000+00:00</td></tr><tr><td>sample.txt</td><td>text/plain</td><td>16</td><td>2016-06-04 17:21:59.597000+00:00</td></tr><tr><td>users/nispc@nispc.tw</td><td>text/plain</td><td>0</td><td>2016-06-04 16:02:25.938000+00:00</td></tr><tr><td>users/鄉鎮市界/.DS_Store</td><td>binary/octet-stream</td><td>6148</td><td>2016-06-04 17:05:45.717000+00:00</td></tr><tr><td>users/鄉鎮市界/Town_MOI_1041215.dbf</td><td>binary/octet-stream</td><td>230722</td><td>2016-06-04 17:05:48.370000+00:00</td></tr><tr><td>users/鄉鎮市界/Town_MOI_1041215.prj</td><td>binary/octet-stream</td><td>145</td><td>2016-06-04 17:05:47.876000+00:00</td></tr><tr><td>users/鄉鎮市界/Town_MOI_1041215.shp</td><td>binary/octet-stream</td><td>18157108</td><td>2016-06-04 17:06:02.572000+00:00</td></tr><tr><td>users/鄉鎮市界/Town_MOI_1041215.shx</td><td>binary/octet-stream</td><td>3044</td><td>2016-06-04 17:05:45.620000+00:00</td></tr><tr><td>台北市住商實價登錄_with_里界.csv</td><td>text/csv</td><td>11491715</td><td>2016-06-04 17:33:37.571000+00:00</td></tr></table>"
      ],
      "text/plain": [
       "<IPython.core.display.HTML object>"
      ]
     },
     "execution_count": 138,
     "metadata": {},
     "output_type": "execute_result"
    }
   ],
   "source": [
    "%%storage list -b gs://geoapp-1332-datalab"
   ]
  },
  {
   "cell_type": "code",
   "execution_count": 172,
   "metadata": {
    "collapsed": false
   },
   "outputs": [],
   "source": [
    "%%storage read --object gs://geoapp-1332-datalab/20151114\\ Accident/99y.csv --variable accident_99"
   ]
  },
  {
   "cell_type": "code",
   "execution_count": 173,
   "metadata": {
    "collapsed": true
   },
   "outputs": [],
   "source": [
    "%%storage read --object gs://geoapp-1332-datalab/20151114\\ Accident/100y.csv --variable accident_100"
   ]
  },
  {
   "cell_type": "code",
   "execution_count": 174,
   "metadata": {
    "collapsed": true
   },
   "outputs": [],
   "source": [
    "%%storage read --object gs://geoapp-1332-datalab/20151114\\ Accident/101y.csv --variable accident_101"
   ]
  },
  {
   "cell_type": "code",
   "execution_count": 175,
   "metadata": {
    "collapsed": true
   },
   "outputs": [],
   "source": [
    "%%storage read --object gs://geoapp-1332-datalab/20151114\\ Accident/102y.csv --variable accident_102"
   ]
  },
  {
   "cell_type": "code",
   "execution_count": 168,
   "metadata": {
    "collapsed": false
   },
   "outputs": [],
   "source": [
    "import pandas as pd\n",
    "from StringIO import StringIO"
   ]
  },
  {
   "cell_type": "code",
   "execution_count": 176,
   "metadata": {
    "collapsed": false
   },
   "outputs": [],
   "source": [
    "accident_100 = pd.read_csv(StringIO(accident_100))\n",
    "accident_101 = pd.read_csv(StringIO(accident_101))\n",
    "accident_102 = pd.read_csv(StringIO(accident_102))\n",
    "accident_99 = pd.read_csv(StringIO(accident_99))"
   ]
  },
  {
   "cell_type": "code",
   "execution_count": 177,
   "metadata": {
    "collapsed": true
   },
   "outputs": [],
   "source": [
    "accident = pd.concat([accident_99, accident_100, accident_101, accident_102])"
   ]
  },
  {
   "cell_type": "code",
   "execution_count": null,
   "metadata": {
    "collapsed": false
   },
   "outputs": [
    {
     "name": "stdout",
     "output_type": "stream",
     "text": [
      "Your browser has been opened to visit:\n",
      "\n",
      "    https://accounts.google.com/o/oauth2/auth?scope=https%3A%2F%2Fwww.googleapis.com%2Fauth%2Fbigquery&redirect_uri=http%3A%2F%2Flocalhost%3A8090%2F&response_type=code&client_id=495642085510-k0tmvj2m941jhre2nbqka17vqpjfddtd.apps.googleusercontent.com&access_type=offline\n",
      "\n",
      "If your browser is on a different machine then exit and re-run this\n",
      "application with the command-line parameter \n",
      "\n",
      "  --noauth_local_webserver\n",
      "\n"
     ]
    }
   ],
   "source": [
    "accident.to_gbq(destination_table=u'nispc.accident', project_id='geoapp-1332')"
   ]
  },
  {
   "cell_type": "code",
   "execution_count": 189,
   "metadata": {
    "collapsed": false
   },
   "outputs": [
    {
     "name": "stdout",
     "output_type": "stream",
     "text": [
      "Downloading/unpacking google-api-python-client\n",
      "  Downloading google_api_python_client-1.5.1-py2.py3-none-any.whl (50kB): 50kB downloaded\n",
      "Requirement already satisfied (use --upgrade to upgrade): oauth2client in /usr/local/lib/python2.7/dist-packages (from google-api-python-client)\n",
      "Requirement already satisfied (use --upgrade to upgrade): six<2,>=1.6.1 in /usr/local/lib/python2.7/dist-packages (from google-api-python-client)\n",
      "Requirement already satisfied (use --upgrade to upgrade): httplib2<1,>=0.8 in /usr/local/lib/python2.7/dist-packages (from google-api-python-client)\n",
      "Downloading/unpacking uritemplate<1,>=0.6 (from google-api-python-client)\n",
      "  Downloading uritemplate-0.6.tar.gz\n",
      "  Running setup.py (path:/tmp/pip-build-X5gCSz/uritemplate/setup.py) egg_info for package uritemplate\n",
      "    \n",
      "Requirement already satisfied (use --upgrade to upgrade): pyasn1>=0.1.7 in /usr/local/lib/python2.7/dist-packages (from oauth2client->google-api-python-client)\n",
      "Requirement already satisfied (use --upgrade to upgrade): pyasn1_modules>=0.0.5 in /usr/local/lib/python2.7/dist-packages (from oauth2client->google-api-python-client)\n",
      "Requirement already satisfied (use --upgrade to upgrade): rsa>=3.1.4 in /usr/local/lib/python2.7/dist-packages (from oauth2client->google-api-python-client)\n",
      "Downloading/unpacking simplejson>=2.5.0 (from uritemplate<1,>=0.6->google-api-python-client)\n",
      "  Downloading simplejson-3.8.2.tar.gz (76kB): 76kB downloaded\n",
      "  Running setup.py (path:/tmp/pip-build-X5gCSz/simplejson/setup.py) egg_info for package simplejson\n",
      "    \n",
      "Installing collected packages: google-api-python-client, uritemplate, simplejson\n",
      "  Running setup.py install for uritemplate\n",
      "    \n",
      "\u001b[33m  Could not find .egg-info directory in install record for uritemplate<1,>=0.6 (from google-api-python-client)\n",
      "\u001b[0m  Running setup.py install for simplejson\n",
      "    building 'simplejson._speedups' extension\n",
      "    x86_64-linux-gnu-gcc -pthread -DNDEBUG -g -fwrapv -O2 -Wall -Wstrict-prototypes -fno-strict-aliasing -D_FORTIFY_SOURCE=2 -g -fstack-protector-strong -Wformat -Werror=format-security -fPIC -I/usr/include/python2.7 -c simplejson/_speedups.c -o build/temp.linux-x86_64-2.7/simplejson/_speedups.o\n",
      "    x86_64-linux-gnu-gcc -pthread -shared -Wl,-O1 -Wl,-Bsymbolic-functions -Wl,-z,relro -fno-strict-aliasing -DNDEBUG -g -fwrapv -O2 -Wall -Wstrict-prototypes -D_FORTIFY_SOURCE=2 -g -fstack-protector-strong -Wformat -Werror=format-security -Wl,-z,relro -D_FORTIFY_SOURCE=2 -g -fstack-protector-strong -Wformat -Werror=format-security build/temp.linux-x86_64-2.7/simplejson/_speedups.o -o build/lib.linux-x86_64-2.7/simplejson/_speedups.so\n",
      "    \n",
      "\u001b[33m  Could not find .egg-info directory in install record for simplejson>=2.5.0 (from uritemplate<1,>=0.6->google-api-python-client)\n",
      "\u001b[0mSuccessfully installed google-api-python-client uritemplate simplejson\n",
      "Cleaning up...\n"
     ]
    }
   ],
   "source": [
    "!pip install google-api-python-client"
   ]
  },
  {
   "cell_type": "code",
   "execution_count": null,
   "metadata": {
    "collapsed": true
   },
   "outputs": [],
   "source": []
  }
 ],
 "metadata": {
  "kernelspec": {
   "display_name": "Python 2",
   "language": "python",
   "name": "python2"
  },
  "language_info": {
   "codemirror_mode": {
    "name": "ipython",
    "version": 2
   },
   "file_extension": ".py",
   "mimetype": "text/x-python",
   "name": "python",
   "nbconvert_exporter": "python",
   "pygments_lexer": "ipython2",
   "version": "2.7.9"
  }
 },
 "nbformat": 4,
 "nbformat_minor": 0
}
