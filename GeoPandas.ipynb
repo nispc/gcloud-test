{
 "cells": [
  {
   "cell_type": "code",
   "execution_count": 111,
   "metadata": {
    "collapsed": true
   },
   "outputs": [],
   "source": [
    "import geopandas as gpd"
   ]
  },
  {
   "cell_type": "code",
   "execution_count": 112,
   "metadata": {
    "collapsed": true
   },
   "outputs": [],
   "source": [
    "import gcp.storage as storage"
   ]
  },
  {
   "cell_type": "code",
   "execution_count": 113,
   "metadata": {
    "collapsed": true
   },
   "outputs": [],
   "source": [
    "bucket = storage.Bucket('geoapp-1332-datalab')"
   ]
  },
  {
   "cell_type": "code",
   "execution_count": 130,
   "metadata": {
    "collapsed": false
   },
   "outputs": [
    {
     "data": {
      "text/html": [
       "<table><tr><th>Bucket</th><th>Created</th></tr><tr><td>gs://geoapp-1332-datalab</td><td>2016-06-04 15:24:44.344000+00:00</td></tr><tr><td>gs://vm-config.geoapp-1332.appspot.com</td><td>2016-06-04 15:55:47.960000+00:00</td></tr><tr><td>gs://vm-containers.geoapp-1332.appspot.com</td><td>2016-06-04 15:55:51.572000+00:00</td></tr></table>"
      ],
      "text/plain": [
       "<IPython.core.display.HTML object>"
      ]
     },
     "execution_count": 130,
     "metadata": {},
     "output_type": "execute_result"
    }
   ],
   "source": [
    "%%storage list -p geoapp-1332"
   ]
  },
  {
   "cell_type": "code",
   "execution_count": 136,
   "metadata": {
    "collapsed": false
   },
   "outputs": [
    {
     "name": "stdout",
     "output_type": "stream",
     "text": [
      "storage list: error: argument -o/--object: not allowed with argument -b/--bucket\n",
      "\n"
     ]
    },
    {
     "name": "stderr",
     "output_type": "stream",
     "text": [
      "usage: storage list [-h] [-p PROJECT] [-o [OBJECT] | -b [BUCKET]]\n",
      "\n",
      "optional arguments:\n",
      "  -h, --help            show this help message and exit\n",
      "  -p PROJECT, --project PROJECT\n",
      "                        The project associated with the objects\n",
      "  -o [OBJECT], --object [OBJECT]\n",
      "                        The name of the objects(s) to list; can include\n",
      "                        wildchars\n",
      "  -b [BUCKET], --bucket [BUCKET]\n",
      "                        The name of the buckets(s) to list; can include\n",
      "                        wildchars\n"
     ]
    }
   ],
   "source": [
    "%%storage list -b -o gs://geoapp-1332-datalab "
   ]
  },
  {
   "cell_type": "code",
   "execution_count": 135,
   "metadata": {
    "collapsed": false
   },
   "outputs": [
    {
     "name": "stdout",
     "output_type": "stream",
     "text": [
      "usage: storage list [-h] [-p PROJECT] [-o [OBJECT] | -b [BUCKET]]\n",
      "\n",
      "optional arguments:\n",
      "  -h, --help            show this help message and exit\n",
      "  -p PROJECT, --project PROJECT\n",
      "                        The project associated with the objects\n",
      "  -o [OBJECT], --object [OBJECT]\n",
      "                        The name of the objects(s) to list; can include\n",
      "                        wildchars\n",
      "  -b [BUCKET], --bucket [BUCKET]\n",
      "                        The name of the buckets(s) to list; can include\n",
      "                        wildchars\n"
     ]
    }
   ],
   "source": [
    "%%storage list --help"
   ]
  },
  {
   "cell_type": "code",
   "execution_count": null,
   "metadata": {
    "collapsed": true
   },
   "outputs": [],
   "source": []
  }
 ],
 "metadata": {
  "kernelspec": {
   "display_name": "Python 2",
   "language": "python",
   "name": "python2"
  },
  "language_info": {
   "codemirror_mode": {
    "name": "ipython",
    "version": 2
   },
   "file_extension": ".py",
   "mimetype": "text/x-python",
   "name": "python",
   "nbconvert_exporter": "python",
   "pygments_lexer": "ipython2",
   "version": "2.7.9"
  }
 },
 "nbformat": 4,
 "nbformat_minor": 0
}
